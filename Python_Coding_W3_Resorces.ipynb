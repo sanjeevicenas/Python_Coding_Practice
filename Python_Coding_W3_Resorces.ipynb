{
  "nbformat": 4,
  "nbformat_minor": 0,
  "metadata": {
    "colab": {
      "provenance": [],
      "authorship_tag": "ABX9TyN0CKaYNiB0K16BwL/rLO+Y",
      "include_colab_link": true
    },
    "kernelspec": {
      "name": "python3",
      "display_name": "Python 3"
    },
    "language_info": {
      "name": "python"
    }
  },
  "cells": [
    {
      "cell_type": "markdown",
      "metadata": {
        "id": "view-in-github",
        "colab_type": "text"
      },
      "source": [
        "<a href=\"https://colab.research.google.com/github/sanjeevicenas/Python_Coding_Practice/blob/master/Python_Coding_W3_Resorces.ipynb\" target=\"_parent\"><img src=\"https://colab.research.google.com/assets/colab-badge.svg\" alt=\"Open In Colab\"/></a>"
      ]
    },
    {
      "cell_type": "code",
      "execution_count": null,
      "metadata": {
        "colab": {
          "base_uri": "https://localhost:8080/"
        },
        "id": "8qsUJ3M78vRE",
        "outputId": "73ea8f7e-2606-432d-d6fc-5ea717460b14"
      },
      "outputs": [
        {
          "output_type": "stream",
          "name": "stdout",
          "text": [
            "Twinkle, twinkle, little star,\n",
            "\tHow I wonder what you are! \n",
            "\t\tUp above the world so high, \n",
            "\t\tLike a diamond in the sky. \n",
            "Twinkle, twinkle, little star, \n",
            "\tHow I wonder what you are\n"
          ]
        }
      ],
      "source": [
        "#1. Write a Python program to print the following string in a specific format (see the output).\n",
        "# Sample String : \"Twinkle, twinkle, little star, How I wonder what you are! Up above the world so high, Like a diamond in the sky. Twinkle, twinkle, little star, How I wonder what you are\"\n",
        "# Output :\n",
        "\n",
        "# Twinkle, twinkle, little star,\n",
        "# \tHow I wonder what you are!\n",
        "# \t\tUp above the world so high,\n",
        "# \t\tLike a diamond in the sky.\n",
        "# Twinkle, twinkle, little star,\n",
        "# \tHow I wonder what you are\n",
        "\n",
        "\n",
        "s = \"Twinkle, twinkle, little star,\\n\\tHow I wonder what you are! \\n\\t\\tUp above the world so high, \\n\\t\\tLike a diamond in the sky. \\nTwinkle, twinkle, little star, \\n\\tHow I wonder what you are\"\n",
        "print(s)"
      ]
    },
    {
      "cell_type": "code",
      "source": [
        "#2 Write a Python program to find out what version of Python you are using.\n",
        "!python --version"
      ],
      "metadata": {
        "colab": {
          "base_uri": "https://localhost:8080/"
        },
        "id": "VBIVNuU1-Yxk",
        "outputId": "f54ebd23-8120-4eb0-8102-249e12215b3c"
      },
      "execution_count": null,
      "outputs": [
        {
          "output_type": "stream",
          "name": "stdout",
          "text": [
            "Python 3.10.12\n"
          ]
        }
      ]
    },
    {
      "cell_type": "code",
      "source": [
        "# 3. Write a Python program to display the current date and time.\n",
        "import datetime as dt\n",
        "\n",
        "print(dt.datetime.now())"
      ],
      "metadata": {
        "id": "35PcCjtAAoEP",
        "colab": {
          "base_uri": "https://localhost:8080/"
        },
        "outputId": "ac800423-59c7-46d8-a0d7-07f5deb19086"
      },
      "execution_count": 7,
      "outputs": [
        {
          "output_type": "stream",
          "name": "stdout",
          "text": [
            "2024-09-06 11:09:13.293976\n"
          ]
        }
      ]
    },
    {
      "cell_type": "code",
      "source": [
        "# 4. Write a Python program that calculates the area of a circle based on the radius entered by the user.\n",
        "\n",
        "def circle_area(r):\n",
        "  a = (22/7)*r**2\n",
        "  return a\n",
        "r = 1.1\n",
        "Area = circle_area(r)\n",
        "print(Area)"
      ],
      "metadata": {
        "colab": {
          "base_uri": "https://localhost:8080/"
        },
        "id": "H38OWEdeBWKm",
        "outputId": "1cd89301-1a33-459e-b25b-3da48ae01db2"
      },
      "execution_count": 8,
      "outputs": [
        {
          "output_type": "stream",
          "name": "stdout",
          "text": [
            "3.8028571428571434\n"
          ]
        }
      ]
    },
    {
      "cell_type": "code",
      "source": [
        "# 5. Write a Python program that accepts the user's first and last name and prints them in reverse order with a space between them.\n",
        "\n",
        "s = \"Boon Dany\"\n",
        "a =s.split()\n",
        "a.reverse()\n",
        "print(' '.join(a))\n",
        "\n",
        "f = 'Boon'\n",
        "\n",
        "l = 'Dany'\n",
        "\n",
        "print(f\"{l} {f}\")"
      ],
      "metadata": {
        "colab": {
          "base_uri": "https://localhost:8080/"
        },
        "id": "Kb3dM2LRCUoi",
        "outputId": "599b77a2-98c4-4535-ec47-1df0a844e21f"
      },
      "execution_count": 21,
      "outputs": [
        {
          "output_type": "stream",
          "name": "stdout",
          "text": [
            "Dany Boon\n",
            "Dany Boon\n"
          ]
        }
      ]
    },
    {
      "cell_type": "code",
      "source": [
        "# 6. Write a Python program that accepts a sequence of comma-separated numbers from the user and generates a list and a tuple of those numbers.\n",
        "\n",
        "a = \"3, 5, 7, 23\"\n",
        "\n",
        "b = a.split()\n",
        "\n",
        "c = list(b)\n",
        "d = tuple(c)\n",
        "print(c)\n",
        "print(d)"
      ],
      "metadata": {
        "colab": {
          "base_uri": "https://localhost:8080/"
        },
        "id": "zOEMy4xvCu5x",
        "outputId": "797b89db-9b83-4b1b-b4bb-c627b5a34ef0"
      },
      "execution_count": 23,
      "outputs": [
        {
          "output_type": "stream",
          "name": "stdout",
          "text": [
            "['3,', '5,', '7,', '23']\n",
            "('3,', '5,', '7,', '23')\n"
          ]
        }
      ]
    },
    {
      "cell_type": "code",
      "source": [
        "# 7. Write a Python program that accepts a filename from the user and prints the extension of the file.\n",
        "s = \"abc.java\"\n",
        "b = s.find('java')\n",
        "c = s.split('.')\n",
        "\n",
        "print(s[4:])\n",
        "repr(c[-1])"
      ],
      "metadata": {
        "colab": {
          "base_uri": "https://localhost:8080/",
          "height": 53
        },
        "id": "GuGzA4uAFyeK",
        "outputId": "7ac1dbbf-f526-444e-adb3-1ee7436b44f3"
      },
      "execution_count": 28,
      "outputs": [
        {
          "output_type": "stream",
          "name": "stdout",
          "text": [
            "java\n"
          ]
        },
        {
          "output_type": "execute_result",
          "data": {
            "text/plain": [
              "\"'java'\""
            ],
            "application/vnd.google.colaboratory.intrinsic+json": {
              "type": "string"
            }
          },
          "metadata": {},
          "execution_count": 28
        }
      ]
    },
    {
      "cell_type": "code",
      "source": [
        "# 8. Write a Python program to display the first and last colors from the following list.\n",
        "color_list = [\"Red\",\"Green\",\"White\" ,\"Black\"]\n",
        "print(color_list[0]+' '+color_list[-1])"
      ],
      "metadata": {
        "colab": {
          "base_uri": "https://localhost:8080/"
        },
        "id": "tRu7Y7pkGYc4",
        "outputId": "6610db57-82da-4f9a-9a1c-5092b0fc8d1a"
      },
      "execution_count": 32,
      "outputs": [
        {
          "output_type": "stream",
          "name": "stdout",
          "text": [
            "Red Black\n"
          ]
        }
      ]
    },
    {
      "cell_type": "code",
      "source": [
        "# 9. Write a Python program to display the examination schedule. (extract the date from exam_st_date).\n",
        "exam_st_date = (11, 12, 2014)\n",
        "out = \"\"\n",
        "for i in exam_st_date:\n",
        "  out+=str(i)+'/'\n",
        "b = len(out)-1\n",
        "a = out[:10]\n",
        "print(a)"
      ],
      "metadata": {
        "colab": {
          "base_uri": "https://localhost:8080/"
        },
        "id": "qtokT9AnHkFB",
        "outputId": "319013db-cb97-49d8-84e4-50afed5b3d93"
      },
      "execution_count": 59,
      "outputs": [
        {
          "output_type": "stream",
          "name": "stdout",
          "text": [
            "11/12/2014\n"
          ]
        }
      ]
    },
    {
      "cell_type": "code",
      "source": [
        "# 10. Write a Python program that accepts an integer (n) and computes the value of n+nn+nnn.\n",
        "n =5\n",
        "a = 0\n",
        "for i in range(1,n-1):\n",
        "  a += int(str(n)*i)\n",
        "print(a)"
      ],
      "metadata": {
        "colab": {
          "base_uri": "https://localhost:8080/"
        },
        "id": "GIHCLEUQIf73",
        "outputId": "388883a5-689f-4a3f-d735-19d3bd844fb7"
      },
      "execution_count": 75,
      "outputs": [
        {
          "output_type": "stream",
          "name": "stdout",
          "text": [
            "615\n"
          ]
        }
      ]
    },
    {
      "cell_type": "code",
      "source": [
        "# 11. Write a Python program to print the documents (syntax, description etc.) of Python built-in function(s).\n",
        "\n",
        "print(sorted.__doc__)"
      ],
      "metadata": {
        "colab": {
          "base_uri": "https://localhost:8080/"
        },
        "id": "QyEdUNYiMsK4",
        "outputId": "ef714bba-971c-4067-f0c3-a1f1240d5858"
      },
      "execution_count": 81,
      "outputs": [
        {
          "output_type": "stream",
          "name": "stdout",
          "text": [
            "Return a new list containing all items from the iterable in ascending order.\n",
            "\n",
            "A custom key function can be supplied to customize the sort order, and the\n",
            "reverse flag can be set to request the result in descending order.\n"
          ]
        }
      ]
    },
    {
      "cell_type": "code",
      "source": [
        "# 12. Write a Python program that prints the calendar for a given month and year.\n",
        "import calendar as c\n",
        "\n",
        "print(c.month(24,1))\n"
      ],
      "metadata": {
        "colab": {
          "base_uri": "https://localhost:8080/"
        },
        "id": "Yo1zkiomQKcW",
        "outputId": "788e632d-a9b9-4a33-c249-5de34335ccb3"
      },
      "execution_count": 86,
      "outputs": [
        {
          "output_type": "stream",
          "name": "stdout",
          "text": [
            "     January 24\n",
            "Mo Tu We Th Fr Sa Su\n",
            " 1  2  3  4  5  6  7\n",
            " 8  9 10 11 12 13 14\n",
            "15 16 17 18 19 20 21\n",
            "22 23 24 25 26 27 28\n",
            "29 30 31\n",
            "\n"
          ]
        }
      ]
    },
    {
      "cell_type": "code",
      "source": [
        "# 14. Write a Python program to calculate the number of days between two dates.\n",
        "\n",
        "from datetime import date\n",
        "d1=date(2014, 7, 2)\n",
        "d2=date(2014, 7, 11)\n",
        "\n",
        "print(int(d2.strftime('%d')) - int(d1.strftime('%d')))\n",
        "\n",
        "day=d2-d1\n",
        "print(day.days)"
      ],
      "metadata": {
        "colab": {
          "base_uri": "https://localhost:8080/"
        },
        "id": "sUFyUMeURJyO",
        "outputId": "a7748570-762d-4db3-c47a-42c5026d153f"
      },
      "execution_count": 94,
      "outputs": [
        {
          "output_type": "stream",
          "name": "stdout",
          "text": [
            "9\n",
            "9\n"
          ]
        }
      ]
    },
    {
      "cell_type": "code",
      "source": [],
      "metadata": {
        "id": "0_kp1iqnScob"
      },
      "execution_count": null,
      "outputs": []
    }
  ]
}