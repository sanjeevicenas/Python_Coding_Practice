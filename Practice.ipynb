{
 "cells": [
  {
   "cell_type": "code",
   "execution_count": 5,
   "id": "8360f20f",
   "metadata": {},
   "outputs": [
    {
     "name": "stdout",
     "output_type": "stream",
     "text": [
      "Audi\n",
      "BMW\n",
      "Subaru\n",
      "Toyota\n"
     ]
    }
   ],
   "source": [
    "cars = ['audi', 'bmw', 'subaru', 'toyota']\n",
    "\n",
    "for i in cars:\n",
    "    if i.lower() == 'bmw':\n",
    "        print(i.upper())\n",
    "    else:\n",
    "        print(i.title())"
   ]
  },
  {
   "cell_type": "code",
   "execution_count": 16,
   "id": "c0470363",
   "metadata": {},
   "outputs": [
    {
     "name": "stdout",
     "output_type": "stream",
     "text": [
      "Authorised user\n"
     ]
    }
   ],
   "source": [
    "# Checking Whether a Value Is Not in a List\n",
    "banned_user = ['a','b','c']\n",
    "user = 'd'\n",
    "\n",
    "if user not in banned_user:\n",
    "    print(\"Authorised user\")\n",
    "\n"
   ]
  },
  {
   "cell_type": "code",
   "execution_count": 24,
   "id": "59ff5a3d",
   "metadata": {},
   "outputs": [
    {
     "name": "stdout",
     "output_type": "stream",
     "text": [
      "Player earned 5 points\n",
      "Player earned 10 points\n",
      "Player earned 15 points\n"
     ]
    }
   ],
   "source": [
    "alien_color = ['g','y','r']\n",
    "\n",
    "for i in alien_color:\n",
    "    if i == 'g':\n",
    "        print('Player earned 5 points')\n",
    "    elif i =='y':\n",
    "        print('Player earned 10 points')\n",
    "    else:\n",
    "        print('Player earned 15 points')"
   ]
  },
  {
   "cell_type": "code",
   "execution_count": 3,
   "id": "9e68f8e5",
   "metadata": {},
   "outputs": [
    {
     "name": "stdout",
     "output_type": "stream",
     "text": [
      "Enter an age: 34\n",
      "The age category for 34 is: Adult\n",
      "Enter an age: 67\n",
      "The age category for 67 is: Elder\n",
      "Enter an age: 0\n"
     ]
    }
   ],
   "source": [
    "def find_age(age):\n",
    "    if age < 2:\n",
    "        return 'Baby'\n",
    "    elif age >= 2 and age < 4:\n",
    "        return 'Toddler'\n",
    "    elif age >= 4 and age < 13:\n",
    "        return 'Kid'\n",
    "    elif age >= 13 and age < 20:\n",
    "        return 'Teenager'\n",
    "    elif age >= 20 and age < 65:\n",
    "        return 'Adult'\n",
    "    else:\n",
    "        return 'Elder'\n",
    "\n",
    "if __name__ == '__main__':\n",
    "    age = ''\n",
    "    while age != 0:\n",
    "        age = int(input(\"Enter an age: \"))\n",
    "        \n",
    "        if age == 0:\n",
    "            break\n",
    "        age_category = find_age(age)\n",
    "        print(f\"The age category for {age} is: {age_category}\")    "
   ]
  },
  {
   "cell_type": "code",
   "execution_count": 4,
   "id": "8aaf7e7a",
   "metadata": {},
   "outputs": [
    {
     "name": "stdout",
     "output_type": "stream",
     "text": [
      "exit\n"
     ]
    }
   ],
   "source": [
    "def Favorite_fruit(fav_fruit):\n",
    "    fruits = []\n",
    "    if fav_fruit == 'Banana':\n",
    "        return \"I like Banana\"\n",
    "        fruits.append('Banana')\n",
    "    \n",
    "    elif fav_fruit == 'Grape':\n",
    "        return \"I don't like Grape\"\n",
    "        fruits.append('Grape')\n",
    "    return fruits\n",
    "\n",
    "if __name__ == '__main__':\n",
    "    \n",
    "    fav_fruit = ''\n",
    "    \n",
    "    while fav_fruit != 'exit':\n",
    "        fav_fruit = input()\n",
    "        \n",
    "        if fav_fruit == 'exit':\n",
    "            break\n",
    "    \n",
    "        res = Favorite_fruit(fav_fruit)\n",
    "    \n",
    "        print(res)"
   ]
  },
  {
   "cell_type": "code",
   "execution_count": 2,
   "id": "498df20f",
   "metadata": {},
   "outputs": [
    {
     "name": "stdout",
     "output_type": "stream",
     "text": [
      "Admin\n",
      "[]\n",
      "q\n"
     ]
    }
   ],
   "source": [
    "def Hello_admin(names):\n",
    "    names = []\n",
    "    for i in names:\n",
    "        if i == 'Admin':\n",
    "            return f\"Hello {i}, would you like to see a status report?\"\n",
    "            names.append(i)\n",
    "        else:\n",
    "            return f\"Hello {i}, thank you for logging in again.\"\n",
    "            names.append(i)\n",
    "    return names\n",
    "\n",
    "if __name__ == '__main__':\n",
    "    \n",
    "    names = ''\n",
    "    \n",
    "    while names != 'q':\n",
    "        names = input()\n",
    "        \n",
    "        if names == 'q':\n",
    "            break\n",
    "        res = Hello_admin(names)\n",
    "        print(res)\n",
    "        \n",
    "        "
   ]
  },
  {
   "cell_type": "code",
   "execution_count": 18,
   "id": "36cee739",
   "metadata": {},
   "outputs": [
    {
     "name": "stdout",
     "output_type": "stream",
     "text": [
      "infy:20.127:12\n",
      "infy 20.127 12 infy 20.127 12 b = 20.13\n",
      "infy 20.127 12 c =       12\n",
      "infy 20.127 12 c = 12      \n"
     ]
    }
   ],
   "source": [
    "# print function\n",
    "\n",
    "a = \"infy\"\n",
    "b = 20.127\n",
    "c = 12\n",
    "\n",
    "print(a,b,c,sep = \":\")#seperator between variables changed to ‘:’\n",
    "print(a,b,c,end = \" \")#seperator between two print statement changed to \" \"\n",
    "print(a,b,c,\"b = %0.2f\" %b) #as the format is 0.2 value is rounded of two decimal digits\n",
    "print(a,b,c,\"c = %8d\" %c)#right aligned within the reserved 8 spaces\n",
    "print(a,b,c,\"c = %-8d\" %c)# left aligned within the reserved 8 spaces as there is – symbol"
   ]
  },
  {
   "cell_type": "code",
   "execution_count": 24,
   "id": "b6e8adc8",
   "metadata": {},
   "outputs": [
    {
     "name": "stdout",
     "output_type": "stream",
     "text": [
      "1028\n",
      "Invlid\n",
      "0\n"
     ]
    }
   ],
   "source": [
    "def zip_zap(a):\n",
    "    if a%3 == 0:\n",
    "        return \"Zip\"\n",
    "    elif a%5 == 0:\n",
    "        return \"Zap\"\n",
    "    elif a%3 ==0 and a%5 == 0:\n",
    "        return \"Zoom\"\n",
    "    else:\n",
    "        return \"Invlid\"\n",
    "if __name__ == '__main__':\n",
    "    while a != 'q':\n",
    "        a = int(input())\n",
    "        if a == 0:\n",
    "            break\n",
    "        res = zip_zap(a)\n",
    "        print(res)"
   ]
  },
  {
   "cell_type": "code",
   "execution_count": 25,
   "id": "1d3ad10c",
   "metadata": {},
   "outputs": [
    {
     "name": "stdout",
     "output_type": "stream",
     "text": [
      "the current number is: 1\n",
      "the current number is: 2\n",
      "the current number is: 3\n",
      "the current number is: 4\n",
      "the current number is: 5\n"
     ]
    }
   ],
   "source": [
    "num=5\n",
    "count=1\n",
    "while count <= num:\n",
    "    print(\"the current number is:\",count)\n",
    "    count+=1"
   ]
  },
  {
   "cell_type": "code",
   "execution_count": 4,
   "id": "7d274dcf",
   "metadata": {},
   "outputs": [
    {
     "name": "stdout",
     "output_type": "stream",
     "text": [
      "389\n",
      "20\n",
      "456\n",
      "15\n",
      "0\n"
     ]
    }
   ],
   "source": [
    "def sum_of_digits(a):\n",
    "    num_str = str(a)  # Use 'a' instead of 'num'\n",
    "    digits = []\n",
    "    \n",
    "    for digit in num_str:  # Use 'digit' instead of 'a'\n",
    "        digits.append(int(digit))\n",
    "    \n",
    "    sum_digits = sum(digits)\n",
    "    return sum_digits\n",
    "        \n",
    "    \n",
    "if __name__ == '__main__':\n",
    "    while True:\n",
    "        a = int(input())\n",
    "        if a == 0:\n",
    "            break\n",
    "        res = sum_of_digits(a)\n",
    "        print(res)"
   ]
  },
  {
   "cell_type": "code",
   "execution_count": 1,
   "id": "557084d4",
   "metadata": {},
   "outputs": [
    {
     "name": "stdout",
     "output_type": "stream",
     "text": [
      "2025\n",
      "False\n",
      "2027\n",
      "False\n",
      "2010\n",
      "False\n",
      "2001\n",
      "False\n",
      "2006\n",
      "False\n",
      "20101\n",
      "False\n",
      "2024\n",
      "leap_year\n",
      "\n",
      "True\n",
      "0\n"
     ]
    }
   ],
   "source": [
    "def leap_year(year):\n",
    "    leap = False\n",
    "    if year % 4 == 0:\n",
    "        leap = True\n",
    "        print(\"leap_year\\n\")\n",
    "        if year % 100 == 0:\n",
    "            leap = False\n",
    "            print(\"Not_leap_year\\n\")\n",
    "            if leap % 400 == 0:\n",
    "                leap = True\n",
    "                print(\"leap_year\\n\")\n",
    "    return leap\n",
    "if __name__ == '__main__':\n",
    "    while True:\n",
    "        year = int(input())\n",
    "        if year == 0:\n",
    "            break\n",
    "        res = leap_year(year)\n",
    "        print(res)"
   ]
  },
  {
   "cell_type": "code",
   "execution_count": 89,
   "id": "50c8ede8",
   "metadata": {},
   "outputs": [
    {
     "name": "stdout",
     "output_type": "stream",
     "text": [
      "123456789\n",
      "9\n",
      "22421\n",
      "4\n",
      "0\n"
     ]
    }
   ],
   "source": [
    "def Max_of_three_numbers(a):\n",
    "    num_str = str(a)  # Use 'a' instead of 'num'\n",
    "    digits = []\n",
    "    \n",
    "    for digit in num_str:  # Use 'digit' instead of 'a'\n",
    "        digits.append(int(digit))\n",
    "    \n",
    "    sum_digits = max(digits)\n",
    "    return sum_digits\n",
    "        \n",
    "    \n",
    "if __name__ == '__main__':\n",
    "    while True:\n",
    "        a = int(input())\n",
    "        if a == 0:\n",
    "            break\n",
    "        res = Max_of_three_numbers(a)\n",
    "        print(res)"
   ]
  },
  {
   "cell_type": "code",
   "execution_count": 2,
   "id": "22b0df81",
   "metadata": {},
   "outputs": [
    {
     "name": "stdout",
     "output_type": "stream",
     "text": [
      "53\n",
      "Prime\n",
      "0\n"
     ]
    }
   ],
   "source": [
    "def prime_or_not(num):\n",
    "    if num <=1:\n",
    "        return False\n",
    "    \n",
    "    for i in range(2,int(num**0.5)+1):\n",
    "        \n",
    "        if num % i == 0:\n",
    "            return False\n",
    "    return True\n",
    "    \n",
    "if __name__ == '__main__':\n",
    "    while True:\n",
    "        num = int(input())\n",
    "        if num == 0:\n",
    "            break\n",
    "        if prime_or_not(num):\n",
    "            print(\"Prime\")\n",
    "        else:\n",
    "            print(\"Not Prime\")"
   ]
  },
  {
   "cell_type": "code",
   "execution_count": 1,
   "id": "cad7ae53",
   "metadata": {},
   "outputs": [
    {
     "name": "stdout",
     "output_type": "stream",
     "text": [
      "3\n",
      "[1, 2, 3]\n",
      "10\n",
      "[1, 2, 3, 5, 8, 13, 21, 34, 55, 89]\n",
      "0\n"
     ]
    }
   ],
   "source": [
    "def fibonacci(num):\n",
    "    n1 = 0\n",
    "    n2 = 1\n",
    "    digits = []\n",
    "    for i in range(num):\n",
    "        n3 = n1 + n2\n",
    "        n1 = n2\n",
    "        n2 = n3\n",
    "        digits.append(n3)\n",
    "    return digits\n",
    "if __name__ == '__main__':\n",
    "    while True:\n",
    "        num = int(input())\n",
    "        if num == 0:\n",
    "            break\n",
    "        res = fibonacci(num)\n",
    "        print(res)\n",
    "        \n",
    "        "
   ]
  },
  {
   "cell_type": "code",
   "execution_count": 5,
   "id": "bf5ff441",
   "metadata": {},
   "outputs": [
    {
     "name": "stdout",
     "output_type": "stream",
     "text": [
      "3\n",
      "1500.0\n",
      "7\n",
      "10000\n",
      "4\n",
      "700.0\n",
      "5\n",
      "500.0\n",
      "0\n"
     ]
    }
   ],
   "source": [
    "def hike_percentge(jl):\n",
    "    salary = 10000\n",
    "    if jl == 3:\n",
    "        return round(salary*0.15,2)\n",
    "    elif jl == 4:\n",
    "        return round(salary*0.07,2)\n",
    "    elif jl == 5:\n",
    "        return round(salary*0.05,2)\n",
    "    else:\n",
    "        return salary\n",
    "if __name__ == '__main__':\n",
    "    while True:\n",
    "        jl = int(input())\n",
    "        if jl == 0:\n",
    "            break\n",
    "        res = hike_percentge(jl)\n",
    "        print(res)"
   ]
  },
  {
   "cell_type": "code",
   "execution_count": 8,
   "id": "f7108016",
   "metadata": {},
   "outputs": [
    {
     "name": "stdout",
     "output_type": "stream",
     "text": [
      "4.0\n"
     ]
    }
   ],
   "source": [
    "num1=16\n",
    "num2=6\n",
    "while(num1>=2):\n",
    "    if(num1>num2):\n",
    "        num1=num1/2\n",
    "    else:\n",
    "        print(num1)\n",
    "        break"
   ]
  },
  {
   "cell_type": "code",
   "execution_count": 9,
   "id": "6798e461",
   "metadata": {},
   "outputs": [
    {
     "name": "stdout",
     "output_type": "stream",
     "text": [
      "Passport is valid\n"
     ]
    }
   ],
   "source": [
    "observe1=\"What's happening!!\"\n",
    "def passport_check(passport_no):\n",
    "    observe4=\"actual copied to formal\"\n",
    "    observe5=\"func. execution starts\"\n",
    "    if(len(passport_no)==8):\n",
    "        if(passport_no[0]>=\"A\" and passport_no[0]<=\"Z\"):\n",
    "            status=\"valid\"\n",
    "        else:\n",
    "            status=\"invalid\"\n",
    "    else:\n",
    "        status= \"invalid\"\n",
    "    observe6=\"func. execution ends\"\n",
    "    return status\n",
    "observe2=\"function with formal arg.\"\n",
    "observe3=\"calling with actual arg.\"\n",
    "passport_status=passport_check(\"M9993471\")\n",
    "print(\"Passport is\",passport_status)\n",
    "#observe1,2,3,4,5,6 are temporary variables used to explain this concept"
   ]
  },
  {
   "cell_type": "code",
   "execution_count": 10,
   "id": "83fedeb1",
   "metadata": {},
   "outputs": [
    {
     "name": "stdout",
     "output_type": "stream",
     "text": [
      "5\n",
      "[0, 1, 4, 9, 16]\n",
      "100\n",
      "[0, 1, 4, 9, 16, 25, 36, 49, 64, 81, 100, 121, 144, 169, 196, 225, 256, 289, 324, 361, 400, 441, 484, 529, 576, 625, 676, 729, 784, 841, 900, 961, 1024, 1089, 1156, 1225, 1296, 1369, 1444, 1521, 1600, 1681, 1764, 1849, 1936, 2025, 2116, 2209, 2304, 2401, 2500, 2601, 2704, 2809, 2916, 3025, 3136, 3249, 3364, 3481, 3600, 3721, 3844, 3969, 4096, 4225, 4356, 4489, 4624, 4761, 4900, 5041, 5184, 5329, 5476, 5625, 5776, 5929, 6084, 6241, 6400, 6561, 6724, 6889, 7056, 7225, 7396, 7569, 7744, 7921, 8100, 8281, 8464, 8649, 8836, 9025, 9216, 9409, 9604, 9801]\n",
      "0\n"
     ]
    }
   ],
   "source": [
    "def find_square(num):\n",
    "    digits = []\n",
    "    for i in range(num):\n",
    "        i = i**2\n",
    "        digits.append(i)\n",
    "    return digits\n",
    "if __name__=='__main__':\n",
    "    while True:\n",
    "        num = int(input())\n",
    "        if num == 0:\n",
    "            break\n",
    "        res = find_square(num)\n",
    "        print(res)"
   ]
  },
  {
   "cell_type": "code",
   "execution_count": 13,
   "id": "987ea6e4",
   "metadata": {},
   "outputs": [
    {
     "name": "stdout",
     "output_type": "stream",
     "text": [
      "1\n",
      "0\n",
      "2\n",
      "1\n",
      "3\n",
      "3\n",
      "4\n",
      "6\n",
      "0\n"
     ]
    }
   ],
   "source": [
    "def find_sum(num):\n",
    "    digits = []\n",
    "    for i in range(num):\n",
    "        digits.append(i)\n",
    "    return sum(digits)\n",
    "\n",
    "if __name__=='__main__':\n",
    "    while True:\n",
    "        num = int(input())\n",
    "        if num == 0:\n",
    "            break\n",
    "        res = find_sum(num)\n",
    "        print(res)"
   ]
  },
  {
   "cell_type": "code",
   "execution_count": 21,
   "id": "39e85a93",
   "metadata": {},
   "outputs": [
    {
     "name": "stdout",
     "output_type": "stream",
     "text": [
      "5\n",
      "120\n",
      "-1\n"
     ]
    }
   ],
   "source": [
    "def factorial(num):\n",
    "    if num < 0:\n",
    "        return None\n",
    "    elif num == 0:\n",
    "        return 1\n",
    "    else:\n",
    "        result = 1\n",
    "        for i in range(1,num+1):\n",
    "            result *= i\n",
    "        return result\n",
    "if __name__ == '__main__':\n",
    "    while True:\n",
    "        num = int(input())\n",
    "        if num == -1:\n",
    "            break\n",
    "        res = factorial(num)\n",
    "        print(res)\n",
    "    "
   ]
  },
  {
   "cell_type": "code",
   "execution_count": 20,
   "id": "c4b5b694",
   "metadata": {},
   "outputs": [
    {
     "name": "stdout",
     "output_type": "stream",
     "text": [
      "0\n"
     ]
    }
   ],
   "source": [
    "# n = 121\n",
    "\n",
    "# num_str = str(n)\n",
    "\n",
    "# digits = []\n",
    "\n",
    "# for i in num_str:\n",
    "#     digits.append(i)\n",
    "# print(digits)\n",
    "\n",
    "# reverse = digits[::-1]\n",
    "\n",
    "# print(reverse)\n",
    "\n",
    "# if n == n.reverse():\n",
    "#     print('palindrome')\n",
    "\n",
    "def is_palindrome(num):\n",
    "    num_str = str(num)\n",
    "    digits = []\n",
    "    for i in num_str:\n",
    "        digits.append(i)\n",
    "    if digits == digits[::-1]:\n",
    "        return \"Palindrome\"\n",
    "    else:\n",
    "        return \"Not Plaindrome\"\n",
    "if __name__ == \"__main__\":\n",
    "    while True:\n",
    "        num = int(input())\n",
    "        if num == 0:\n",
    "            break\n",
    "        res = is_palindrome(num)\n",
    "        print(res)"
   ]
  },
  {
   "cell_type": "code",
   "execution_count": 25,
   "id": "4708488f",
   "metadata": {},
   "outputs": [
    {
     "name": "stdout",
     "output_type": "stream",
     "text": [
      "Number 1:220\n",
      "Number 2:280\n",
      "Non-Amicable_numbers\n",
      "Number 1:284\n",
      "Number 2:220\n",
      "Amicable_numbers\n",
      "Number 1:0\n",
      "Number 2:0\n"
     ]
    }
   ],
   "source": [
    "def check_amicable_numbers(num1,num2):\n",
    "    num_str1 = str(num1)\n",
    "    num_str2 = str(num2)\n",
    "    digits1 = []\n",
    "    digits2 = []\n",
    "    for i in range(1,num1+1):\n",
    "        if num1 % i == 0:\n",
    "            digits1.append(i)\n",
    "    for j in range(1,num2+1):\n",
    "        if num2 % j == 0:\n",
    "            digits2.append(j)\n",
    "    sum_digits1 = sum(digits1)\n",
    "    sum_digits2 = sum(digits2)\n",
    "    if sum_digits1 == sum_digits2:\n",
    "        return \"Amicable_numbers\"\n",
    "    else:\n",
    "        return \"Non-Amicable_numbers\"\n",
    "if __name__ == \"__main__\":\n",
    "    while True:\n",
    "        num1 = int(input(\"Number 1:\"))\n",
    "        num2 = int(input(\"Number 2:\"))\n",
    "        if num1 == 0 and num2==0:\n",
    "            break\n",
    "        res = check_amicable_numbers(num1,num2)\n",
    "        print(res)\n",
    "            \n",
    "            \n",
    "            "
   ]
  },
  {
   "cell_type": "code",
   "execution_count": 30,
   "id": "094a622f",
   "metadata": {},
   "outputs": [
    {
     "name": "stdout",
     "output_type": "stream",
     "text": [
      "Num:60\n",
      "N:2\n",
      "15\n",
      "Num:100\n",
      "N:15\n",
      "0\n",
      "Num:100\n",
      "N:2\n",
      "25\n",
      "Num:0\n",
      "N:0\n"
     ]
    }
   ],
   "source": [
    "# num = 60\n",
    "# n =2 \n",
    "\n",
    "# print(num>>n)\n",
    "\n",
    "def right_shift(num,n):\n",
    "#     num_str = str(num)\n",
    "    digits = []\n",
    "    \n",
    "    if num:\n",
    "        digits.append(num)\n",
    "        return num>>n\n",
    "if __name__ == '__main__':\n",
    "    while True:\n",
    "        num = int(input(\"Num:\"))\n",
    "        n = int(input(\"N:\"))\n",
    "        if num == 0 and num ==0:\n",
    "            break\n",
    "        res = right_shift(num,n)\n",
    "        print(res)\n",
    "        "
   ]
  },
  {
   "cell_type": "code",
   "execution_count": 52,
   "id": "435e0b13",
   "metadata": {},
   "outputs": [
    {
     "name": "stdout",
     "output_type": "stream",
     "text": [
      "[1, 4, 5]\n",
      "[0, 1, 0, 1, 2, 3, 4, 0, 1, 2, 3, 4, 5]\n"
     ]
    }
   ],
   "source": [
    "def check_strong_number(n):\n",
    "    if n < 0:\n",
    "        return None\n",
    "    elif n == 0:\n",
    "        return 1\n",
    "    else:\n",
    "        result = 1\n",
    "        for i in range(1,n+1):\n",
    "            result *= i\n",
    "        return result\n",
    "if __name__ == '__main__':\n",
    "    while True:\n",
    "        num = int(input()).split()\n",
    "        factorial = []\n",
    "        \n",
    "        for j in num:\n",
    "            number = int(num)\n",
    "            fact_result = check_strong_number(number)\n",
    "            fact_list.append(fact_result)\n",
    "        if num == -1:\n",
    "            break\n",
    "        res = check_strong_number(n)\n",
    "        print(res)\n",
    "    \n",
    "    "
   ]
  },
  {
   "cell_type": "code",
   "execution_count": 55,
   "id": "32034dab",
   "metadata": {},
   "outputs": [
    {
     "name": "stdout",
     "output_type": "stream",
     "text": [
      "Enter a number: 145\n",
      "145 is a strong number.\n",
      "Enter a number: 245\n",
      "245 is not a strong number.\n",
      "Enter a number: 0\n"
     ]
    }
   ],
   "source": [
    "def factorial(n):\n",
    "    if n == 0:\n",
    "        return 1\n",
    "    else:\n",
    "        result = 1\n",
    "        for i in range(1, n + 1):\n",
    "            result *= i\n",
    "        return result\n",
    "\n",
    "def check_strong_number(number):\n",
    "    digit_sum = 0\n",
    "    original_number = number\n",
    "\n",
    "    while number > 0:\n",
    "        digit = number % 10\n",
    "        digit_factorial = factorial(digit)\n",
    "        digit_sum += digit_factorial\n",
    "        number //= 10\n",
    "\n",
    "    if digit_sum == original_number:\n",
    "        return True\n",
    "    else:\n",
    "        return False\n",
    "\n",
    "if __name__ == '__main__':\n",
    "    while True:\n",
    "        number = int(input(\"Enter a number: \"))\n",
    "        if number == 0:\n",
    "            break\n",
    "        if check_strong_number(number):\n",
    "            print(number, \"is a strong number.\")\n",
    "        else:\n",
    "            print(number, \"is not a strong number.\")\n"
   ]
  },
  {
   "cell_type": "code",
   "execution_count": 88,
   "id": "79a18ad1",
   "metadata": {},
   "outputs": [
    {
     "name": "stdout",
     "output_type": "stream",
     "text": [
      "True\n",
      "True\n",
      "True\n",
      "True\n",
      "True\n",
      "True\n",
      "3\n",
      "0\n",
      "3\n"
     ]
    }
   ],
   "source": [
    "def adjacent_counter(*args):\n",
    "    count = 0\n",
    "    for lst in args:\n",
    "        for i in range(len(lst)-1): # counting lst items downsize one number\n",
    "#             print(i)\n",
    "            if lst[i]==lst[i+1]: # finding same numbers\n",
    "#                 print(\"True\")\n",
    "                count += 1 # Total count of the numbers\n",
    "    return count\n",
    "    \n",
    "if __name__ == '__main__':\n",
    "    lst1 = [1,1,5,100,-20,-20,6,0,0]\n",
    "    lst2 = [10,20,30,40,30,20]\n",
    "    lst3 = [1,2,2,3,4,4,4,10]\n",
    "    \n",
    "    \n",
    "    res1 = adjacent_counter(lst1)\n",
    "    res2 = adjacent_counter(lst2)\n",
    "    res3 = adjacent_counter(lst3)\n",
    "    print(res1)\n",
    "    print(res2)\n",
    "    print(res3)"
   ]
  },
  {
   "cell_type": "code",
   "execution_count": 78,
   "id": "71e350da",
   "metadata": {},
   "outputs": [
    {
     "name": "stdout",
     "output_type": "stream",
     "text": [
      "range(0, 8)\n"
     ]
    }
   ],
   "source": [
    "print(range(8))"
   ]
  },
  {
   "cell_type": "code",
   "execution_count": 90,
   "id": "ee65db91",
   "metadata": {},
   "outputs": [
    {
     "name": "stdout",
     "output_type": "stream",
     "text": [
      "0\n",
      "True\n",
      "1\n",
      "2\n",
      "3\n",
      "4\n",
      "True\n",
      "5\n",
      "6\n",
      "7\n",
      "True\n",
      "3\n"
     ]
    }
   ],
   "source": [
    "lst1 = [1,1,5,100,-20,-20,6,0,0]\n",
    "\n",
    "count = 0\n",
    "for i in range(len(lst)-1):\n",
    "    print(i)\n",
    "    if lst[i] == lst[i+1]:\n",
    "        print(\"True\")\n",
    "        count += 1\n",
    "print(count)"
   ]
  },
  {
   "cell_type": "code",
   "execution_count": 91,
   "id": "b439a13c",
   "metadata": {},
   "outputs": [
    {
     "name": "stdout",
     "output_type": "stream",
     "text": [
      "101\n",
      "102\n",
      "103\n",
      "104\n",
      "105\n",
      "106\n",
      "107\n",
      "108\n",
      "109\n",
      "110\n"
     ]
    }
   ],
   "source": [
    "counter = 101\n",
    "\n",
    "for _ in range(10):  # Change the range value to determine how many numbers you want to generate\n",
    "    print(counter)\n",
    "    counter += 1"
   ]
  },
  {
   "cell_type": "code",
   "execution_count": 94,
   "id": "0d470346",
   "metadata": {},
   "outputs": [
    {
     "name": "stdout",
     "output_type": "stream",
     "text": [
      "5\n",
      "infosys\n",
      "Banglore\n",
      "['AL1iB101']\n",
      "0\n",
      "q\n",
      "q\n"
     ]
    }
   ],
   "source": [
    "def gen_ticket_numbers(passenger_count,pass_src , pass_dest): \n",
    "    ticket_numbers = []\n",
    "    number = 101\n",
    "    a=None\n",
    "    for i in range(passenger_count):\n",
    "        ticket_numbers.append(\"AL1{}{}{}\".format(pass_src[i][0:3],pass_dest[i][0:3],number))\n",
    "        number += 1\n",
    "        return ticket_numbers\n",
    "if __name__ == '__main__':\n",
    "    while True:\n",
    "        passenger_count = int(input())\n",
    "        pass_src = input()\n",
    "        pass_dest = input()\n",
    "        \n",
    "        if passenger_count == 0 and pass_src=='q' and pass_dest == 'q':\n",
    "            break\n",
    "        ticket_numbers = gen_ticket_numbers(passenger_count,pass_src,pass_dest)\n",
    "        print(ticket_numbers)"
   ]
  },
  {
   "cell_type": "code",
   "execution_count": 1,
   "id": "100d5955",
   "metadata": {},
   "outputs": [
    {
     "name": "stdout",
     "output_type": "stream",
     "text": [
      "220\n",
      "None\n",
      "0\n"
     ]
    }
   ],
   "source": [
    "def proper_divisors(num):\n",
    "    divisors = []\n",
    "    for i in range(1,num+1):\n",
    "        if num % i == 0:\n",
    "            return divisors.append(i)\n",
    "    return num\n",
    "if __name__ == '__main__':\n",
    "    while True:\n",
    "        num = int(input())\n",
    "        if num == 0:\n",
    "            break\n",
    "        res = proper_divisors(num)\n",
    "        print(res)\n",
    "        "
   ]
  },
  {
   "cell_type": "raw",
   "id": "e63a01a8",
   "metadata": {},
   "source": [
    "Write a Python function proper_divisors(num) which returns a list of all the proper divisors of given number.\n",
    "Example: Proper divisors of 220 are 1, 2, 4, 5, 10, 11, 20, 22, 44, 55, 110\n",
    "\n",
    "Write a Python function generate_fibanacci(n) to return a list of first n Fibonacci numbers.\n",
    "\n",
    "Write a Python program to generate the next 15 leap years starting from a given year. Populate the leap years into a list and display the list.\n",
    "\n",
    "Given a string containing uppercase characters (A-Z), compress the string using Run Length encoding. Repetition of character has to be replaced by storing the length of that run.\n",
    "\n",
    "Write a python function encode(message)  which performs the run length encoding for a given String and returns the run length encoded String.\n",
    "\n",
    "Provide different String values and test your program.\n",
    "Example: message=AAAABBBBCCCCCCCC  output: 4A4B8C\n",
    "\n",
    "Represent a small bilingual (English-Swedish) glossary given below as a Python dictionary\n",
    "\n",
    "{\"merry\":\"god\", \"christmas\":\"jul\", \"and\":\"och\", \"happy\":\"gott\", \"new\":\"nytt\", \"year\":\"ar\"} \n",
    "\n",
    "and use it to translate your Christmas wishes from English into Swedish.\n",
    "\n",
    "That is, write a Python function translate(b_dict,list_words) that accepts the bilingual dictionary and a list of English words (your Christmas wish) and returns a list of equivalent Swedish words. "
   ]
  },
  {
   "cell_type": "code",
   "execution_count": 2,
   "id": "90580e23",
   "metadata": {},
   "outputs": [
    {
     "name": "stdout",
     "output_type": "stream",
     "text": [
      "[2, 3, 4, 8, 9]\n"
     ]
    }
   ],
   "source": [
    "list1 = [2,3,4]\n",
    "\n",
    "\n",
    "list1=list1+[8,9]\n",
    "\n",
    "print(list1)"
   ]
  },
  {
   "cell_type": "code",
   "execution_count": 10,
   "id": "11b152f7",
   "metadata": {},
   "outputs": [
    {
     "name": "stdout",
     "output_type": "stream",
     "text": [
      "0\n",
      "1\n",
      "10\n",
      "2\n",
      "20\n",
      "3\n",
      "30\n",
      "4\n"
     ]
    },
    {
     "data": {
      "text/plain": [
       "[0, 0, 10, 20, 30]"
      ]
     },
     "execution_count": 10,
     "metadata": {},
     "output_type": "execute_result"
    }
   ],
   "source": [
    "lst = [0]*5\n",
    "for i in range(1,5):\n",
    "    print((i-1)*10)\n",
    "    print(i)\n",
    "    lst[i] = (i-1)*10\n",
    "lst\n",
    "    "
   ]
  },
  {
   "cell_type": "code",
   "execution_count": 16,
   "id": "651519bc",
   "metadata": {},
   "outputs": [
    {
     "name": "stdout",
     "output_type": "stream",
     "text": [
      "43\n"
     ]
    }
   ],
   "source": [
    "import random\n",
    "x=10\n",
    "y=50\n",
    "print(random.randrange(x,y))"
   ]
  },
  {
   "cell_type": "code",
   "execution_count": 17,
   "id": "7c8d3dfa",
   "metadata": {},
   "outputs": [
    {
     "name": "stdout",
     "output_type": "stream",
     "text": [
      "The smallest integer greater than or equal to num1, 234.01 : 235\n",
      "The largest integer smaller than or equal to num1, 234.01 : 234\n",
      "The factorial of num2, 6 : 720\n",
      "The absolute value of num3 -27.01 : 27.01\n"
     ]
    }
   ],
   "source": [
    "import math\n",
    "num1=234.01\n",
    "num2=6\n",
    "num3=-27.01\n",
    "print(\"The smallest integer greater than or equal to num1,\",num1,\":\",math.ceil(num1))\n",
    "print(\"The largest integer smaller than or equal to num1,\",num1,\":\",math.floor(num1))\n",
    "print(\"The factorial of num2,\",num2,\":\", math.factorial(num2))\n",
    "print(\"The absolute value of num3\",num3,\":\",math.fabs(num3))"
   ]
  },
  {
   "cell_type": "raw",
   "id": "5f34215c",
   "metadata": {},
   "source": [
    "name.count(\"a\") = 2 = Returns the count of a given set of characters. Returns 0 if not found\n",
    "\n",
    "name.replace(\"a\",\"A\")= RAghAv =Returns a new string by replacing a set of characters with another set of characters. It does not modify the original string\n",
    "\n",
    "name.find(\"a\") = 1 = Returns the first index position of a given set of characters\n",
    "\n",
    "name.startswith(\"Ra\")= True = Checks if a string starts with a specific set of characters, returns true or false accordingly.\n",
    "\n",
    "name.endswith(\"ha\")= False = Checks if a string ends with a specific set of characters, returns true or false accordingly.\n",
    "\n",
    "name.isdigit()= False = Checks if all the characters in the string are numbers, returns true or false accordingly.\n",
    "\n",
    "name.upper()= RAGHAV = Converts the lowercase letters in string to uppercase\n",
    "\n",
    "name.lower()= raghav = Converts the uppercase letters in string to lowercase\n",
    "\n",
    "name.split(\"a\")= ['R', 'gh', 'v'] = Splits string according to delimiter and returns the list of substring. Space is considered as the default delimiter."
   ]
  },
  {
   "cell_type": "code",
   "execution_count": 18,
   "id": "479c534c",
   "metadata": {},
   "outputs": [
    {
     "name": "stdout",
     "output_type": "stream",
     "text": [
      "Good Morning, this is the final call to AL passengers for the flight AL 466 which is planned to take off at 8.40A.M.\n",
      "Welcome to Air Lines.\n",
      "Passengers are requested to have their breakfast.\n",
      "Flight Number is specified to the passengers.\n",
      "Total number of times flight service name is specified in the boarding call: 2\n",
      "THANK YOU ALL..HAVE A NICE JOURNEY!\n",
      "thank you all..have a nice journey!\n"
     ]
    }
   ],
   "source": [
    "boarding_call=\"Good Evening, this is the final call to AL passengers for the flight AL 466 which is planned to take off at 8.40A.M.\"\n",
    "if(boarding_call.startswith(\"Good Evening\")):\n",
    "    print(boarding_call.replace(\"Good Evening\",\"Good Morning\"))\n",
    "if(boarding_call.find(\"AL\"))>=0:\n",
    "    print(\"Welcome to Air Lines.\")\n",
    "if(boarding_call.endswith(\"A.M.\")):\n",
    "    print(\"Passengers are requested to have their breakfast.\")\n",
    "a=boarding_call.split(\" \")\n",
    "for i in a:\n",
    "    if(i.isdigit()):\n",
    "        print(\"Flight Number is specified to the passengers.\")\n",
    "print(\"Total number of times flight service name is specified in the boarding call:\",boarding_call.count(\"AL\"))\n",
    "message=\"Thank you all..Have a nice journey!\"\n",
    "print(message.upper())\n",
    "print(message.lower())\n"
   ]
  },
  {
   "cell_type": "code",
   "execution_count": 19,
   "id": "f9658ce1",
   "metadata": {},
   "outputs": [
    {
     "name": "stdout",
     "output_type": "stream",
     "text": [
      "Before update:\n",
      "Co-pilot: Raghav\n",
      "\n",
      "After update:\n",
      "Co-pilot: Henry\n",
      "Flight Attendant: Jane\n"
     ]
    }
   ],
   "source": [
    "crew_details={\n",
    "    \"Pilot\":\"Kumar\",\n",
    "    \"Co-pilot\":\"Raghav\",\n",
    "    \"Head-Strewardess\":\"Malini\",\n",
    "    \"Stewardess\":\"Mala\"\n",
    "}\n",
    "print(\"Before update:\")\n",
    "print(\"Co-pilot:\",crew_details.get(\"Co-pilot\"))\n",
    "crew_details.update({\"Flight Attendant\":\"Jane\", \"Co-pilot\":\"Henry\"})\n",
    "print(\"\\nAfter update:\")\n",
    "print(\"Co-pilot:\",crew_details.get(\"Co-pilot\"))\n",
    "print(\"Flight Attendant:\",crew_details[\"Flight Attendant\"])"
   ]
  },
  {
   "cell_type": "raw",
   "id": "7faffc39",
   "metadata": {},
   "source": [
    "Write a python function, encrypt_sentence(msg) which accepts a message and encrypts it based on rules given below and returns the encrypted message.\n",
    " \n",
    "\n",
    "Words at odd position -> Reverse It\n",
    "\n",
    "Words at even position -> Rearrange the characters so that all consonants appear before the vowels and their order should not change\n",
    "\n",
    "Note: Assume that the sentence would begin with a word and there will be only a single space between the words.\n",
    "\n",
    "          Perform case sensitive string operations wherever necessary.\n",
    "\n",
    "Example: msg=the sun rises in the east    output=eht snu sesir ni eht stea\n",
    "\n",
    "Write a Python program to find the number of characters present the given string.\n",
    "\n",
    "Write a Python program to find the numbers of words present in the given sentence.\n",
    "\n",
    "Write a Python function words_count(sentence) to return a dictionary with the length of words as key and number words with such length as value.\n",
    "\n",
    "Example: sentence=“I love python and it so easy to learn” sample output={1:1,4:2,5:1,3:1,2:3,6:1}\n",
    "\n",
    "Write a Python function vowel_count(sentence) to return a dictionary with vowels, consonants, others as key and respective number of vowels, consonants, others characters as value.\n",
    "\n",
    "Note: Do case insensitive operations\n",
    "\n",
    "Example: sentence=“I love python and it so easy to learn”\n",
    "\n",
    "                 sample output={“vowels”:12,”consonants”:17, “others”:8}"
   ]
  },
  {
   "cell_type": "code",
   "execution_count": 21,
   "id": "0c31a259",
   "metadata": {},
   "outputs": [
    {
     "name": "stdout",
     "output_type": "stream",
     "text": [
      "JINGLE Bells jingle Bells Jingle All The Way\n"
     ]
    }
   ],
   "source": [
    "song=\"JINGLE Bells jingle Bells Jingle All The Way\"\n",
    "song.upper()\n",
    "song_words=song.split()\n",
    "\n",
    "print(song)"
   ]
  },
  {
   "cell_type": "code",
   "execution_count": 22,
   "id": "5493b142",
   "metadata": {},
   "outputs": [
    {
     "name": "stdout",
     "output_type": "stream",
     "text": [
      "1 5 10\n"
     ]
    }
   ],
   "source": [
    "sample_dict={'a':1,'b':2}\n",
    "sample_dict.update({'b':5, 'c':10 })\n",
    "print(sample_dict.get('a'),sample_dict.get('b'),sample_dict.get('c'))"
   ]
  },
  {
   "cell_type": "code",
   "execution_count": 3,
   "id": "3492da33",
   "metadata": {},
   "outputs": [
    {
     "name": "stdout",
     "output_type": "stream",
     "text": [
      "Duration,Start date,End date,Start station number,Start station,End station number,End station,Bike number,Member type\n",
      "1012,9/20/2010 11:27,9/20/2010 11:43,31208,M St & New Jersey Ave SE,31108,4th & M St SW,W00742,Member\n"
     ]
    }
   ],
   "source": [
    "# Readning File\n",
    "\n",
    "rd = open(\"/Users/sanjeevi.m/Documents/Training python file/Pyspark Training/Sources/CityBikeTrip.csv\",'r')\n",
    "\n",
    "line1=rd.readline()    \n",
    "print(line1,end=\"\")\n",
    "\n",
    "line2 = rd.readline()\n",
    "print(line2,end=\"\")\n"
   ]
  },
  {
   "cell_type": "code",
   "execution_count": 8,
   "id": "9513f4fb",
   "metadata": {},
   "outputs": [
    {
     "name": "stdout",
     "output_type": "stream",
     "text": [
      "Duration,Start date,End date,Start station number,Start station,End station number,End station,Bike number,Member type\n",
      "1012,9/20/2010 11:27,9/20/2010 11:43,31208,M St & New Jersey Ave SE,31108,4th & M St SW,W00742,Member\n",
      "61,9/20/2010 11:41,9/20/2010 11:42,31209,1st & N St  SE,31209,1st & N St  SE,W00032,Member\n",
      "2690,9/20/2010 12:05,9/20/2010 12:50,31600,5th & K St NW,31100,19th St & Pennsylvania Ave NW,W00993,Member\n",
      "1406,9/20/2010 12:06,9/20/2010 12:29,31600,5th & K St NW,31602,Park Rd & Holmead Pl NW,W00344,Member\n",
      "1413,9/20/2010 12:10,9/20/2010 12:34,31100,19th St & Pennsylvania Ave NW,31201,15th & P St NW,W00883,Member\n",
      "982,9/20/2010 12:14,9/20/2010 12:30,31109,7th & T St NW,31200,Massachusetts Ave ,W00850,Member\n",
      "930,9/20/2010 12:15,9/20/2010 12:30,31109,7th & T St NW,31105,14th & Harvard St NW,W00804,Member\n",
      "1659,9/20/2010 12:16,9/20/2010 12:44,31111,10th & U St NW,31208,M St & New Jersey Ave SE,W01084,Member\n",
      "2496,9/20/2010 12:18,9/20/2010 13:00,31600,5th & K St NW,31601,19th & East Capitol St SE,W00812,Member\n",
      "1487,9/20/2010 12:19,9/20/2010 12:44,31703,Minnesota Ave Metro/DOES,31603,1st & M St NE,W00803,Member\n",
      "1007,9/20/2010 12:21,9/20/2010 12:38,31500,4th & W St NE,31200,Massachusetts Ave ,W00256,Member\n",
      "1159,9/20/2010 12:26,9/20/2010 12:45,31603,1st & M St NE,31603,1st & M St NE,W01023,Member\n",
      "88,9/20/2010 12:31,9/20/2010 12:32,31602,Park Rd & Holmead Pl NW,31602,Park Rd & Holmead Pl NW,W00472,Member\n",
      "202,9/20/2010 12:33,9/20/2010 12:36,31105,14th & Harvard St NW,31103,16th & Harvard St NW,W00685,Member\n",
      "1407,9/20/2010 12:39,9/20/2010 13:02,31101,14th & V St NW,31100,19th St & Pennsylvania Ave NW,W00930,Member\n",
      "351,9/20/2010 12:39,9/20/2010 12:45,31103,16th & Harvard St NW,31104,Adams Mill & Columbia Rd NW,W00685,Member\n",
      "416,9/20/2010 12:40,9/20/2010 12:47,31105,14th & Harvard St NW,31207,Georgia Ave and Fairmont St NW,W00476,Member\n",
      "2988,9/20/2010 12:41,9/20/2010 13:31,31206,19th & E Street NW,31603,1st & M St NE,W00955,Member\n",
      "636,9/20/2010 12:42,9/20/2010 12:52,31002,20th & Crystal Dr,31003,15th & Crystal Dr,W01066,Member\n"
     ]
    }
   ],
   "source": [
    "rd = open(\"/Users/sanjeevi.m/Documents/Training python file/Pyspark Training/Sources/CityBikeTrip.csv\",'r')\n",
    "\n",
    "rd_line = rd.readlines()\n",
    "for i in rd_line:\n",
    "    print(i,end=\"\")\n",
    "rd.close()"
   ]
  },
  {
   "cell_type": "code",
   "execution_count": 15,
   "id": "dded2ff4",
   "metadata": {},
   "outputs": [
    {
     "name": "stdout",
     "output_type": "stream",
     "text": [
      "Duration,Start date,End date,Start station number,Start station,End station number,End station,Bike number,Member type\n",
      "1012,9/20/2010 11:27,9/20/2010 11:43,31208,M St & New Jersey Ave SE,31108,4th & M St SW,W00742,Member\n",
      "61,9/20/2010 11:41,9/20/2010 11:42,31209,1st & N St  SE,31209,1st & N St  SE,W00032,Member\n",
      "2690,9/20/2010 12:05,9/20/2010 12:50,31600,5th & K St NW,31100,19th St & Pennsylvania Ave NW,W00993,Member\n",
      "1406,9/20/2010 12:06,9/20/2010 12:29,31600,5th & K St NW,31602,Park Rd & Holmead Pl NW,W00344,Member\n",
      "1413,9/20/2010 12:10,9/20/2010 12:34,31100,19th St & Pennsylvania Ave NW,31201,15th & P St NW,W00883,Member\n",
      "982,9/20/2010 12:14,9/20/2010 12:30,31109,7th & T St NW,31200,Massachusetts Ave ,W00850,Member\n",
      "930,9/20/2010 12:15,9/20/2010 12:30,31109,7th & T St NW,31105,14th & Harvard St NW,W00804,Member\n",
      "1659,9/20/2010 12:16,9/20/2010 12:44,31111,10th & U St NW,31208,M St & New Jersey Ave SE,W01084,Member\n",
      "2496,9/20/2010 12:18,9/20/2010 13:00,31600,5th & K St NW,31601,19th & East Capitol St SE,W00812,Member\n",
      "1487,9/20/2010 12:19,9/20/2010 12:44,31703,Minnesota Ave Metro/DOES,31603,1st & M St NE,W00803,Member\n",
      "1007,9/20/2010 12:21,9/20/2010 12:38,31500,4th & W St NE,31200,Massachusetts Ave ,W00256,Member\n",
      "1159,9/20/2010 12:26,9/20/2010 12:45,31603,1st & M St NE,31603,1st & M St NE,W01023,Member\n",
      "88,9/20/2010 12:31,9/20/2010 12:32,31602,Park Rd & Holmead Pl NW,31602,Park Rd & Holmead Pl NW,W00472,Member\n",
      "202,9/20/2010 12:33,9/20/2010 12:36,31105,14th & Harvard St NW,31103,16th & Harvard St NW,W00685,Member\n",
      "1407,9/20/2010 12:39,9/20/2010 13:02,31101,14th & V St NW,31100,19th St & Pennsylvania Ave NW,W00930,Member\n",
      "351,9/20/2010 12:39,9/20/2010 12:45,31103,16th & Harvard St NW,31104,Adams Mill & Columbia Rd NW,W00685,Member\n",
      "416,9/20/2010 12:40,9/20/2010 12:47,31105,14th & Harvard St NW,31207,Georgia Ave and Fairmont St NW,W00476,Member\n",
      "2988,9/20/2010 12:41,9/20/2010 13:31,31206,19th & E Street NW,31603,1st & M St NE,W00955,Member\n",
      "636,9/20/2010 12:42,9/20/2010 12:52,31002,20th & Crystal Dr,31003,15th & Crystal Dr,W01066,Member\n",
      "\n"
     ]
    }
   ],
   "source": [
    "rd = open(\"/Users/sanjeevi.m/Documents/Training python file/Pyspark Training/Sources/CityBikeTrip.csv\",'r')\n",
    "\n",
    "r = rd.read()\n",
    "print(r)\n",
    "rd.close()"
   ]
  },
  {
   "cell_type": "code",
   "execution_count": 17,
   "id": "393989ec",
   "metadata": {},
   "outputs": [
    {
     "name": "stdout",
     "output_type": "stream",
     "text": [
      "Duration,Start date,End date,Start station number,Start station,End station number,End station,Bike number,Member type\n",
      "1012,9/20/2010 11:27,9/20/2010 11:43,31208,M St & New Jersey Ave SE,31108,4th & M St SW,W00742,Member\n",
      "61,9/20/2010 11:41,9/20/2010 11:42,31209,1st & N St  SE,31209,1st & N St  SE,W00032,Member\n",
      "2690,9/20/2010 12:05,9/20/2010 12:50,31600,5th & K St NW,31100,19th St & Pennsylvania Ave NW,W00993,Member\n",
      "1406,9/20/2010 12:06,9/20/2010 12:29,31600,5th & K St NW,31602,Park Rd & Holmead Pl NW,W00344,Member\n",
      "1413,9/20/2010 12:10,9/20/2010 12:34,31100,19th St & Pennsylvania Ave NW,31201,15th & P St NW,W00883,Member\n",
      "982,9/20/2010 12:14,9/20/2010 12:30,31109,7th & T St NW,31200,Massachusetts Ave ,W00850,Member\n",
      "930,9/20/2010 12:15,9/20/2010 12:30,31109,7th & T St NW,31105,14th & Harvard St NW,W00804,Member\n",
      "1659,9/20/2010 12:16,9/20/2010 12:44,31111,10th & U St NW,31208,M St & New Jersey Ave SE,W01084,Member\n",
      "2496,9/20/2010 12:18,9/20/2010 13:00,31600,5th & K St NW,31601,19th & East Capitol St SE,W00812,Member\n",
      "1487,9/20/2010 12:19,9/20/2010 12:44,31703,Minnesota Ave Metro/DOES,31603,1st & M St NE,W00803,Member\n",
      "1007,9/20/2010 12:21,9/20/2010 12:38,31500,4th & W St NE,31200,Massachusetts Ave ,W00256,Member\n",
      "1159,9/20/2010 12:26,9/20/2010 12:45,31603,1st & M St NE,31603,1st & M St NE,W01023,Member\n",
      "88,9/20/2010 12:31,9/20/2010 12:32,31602,Park Rd & Holmead Pl NW,31602,Park Rd & Holmead Pl NW,W00472,Member\n",
      "202,9/20/2010 12:33,9/20/2010 12:36,31105,14th & Harvard St NW,31103,16th & Harvard St NW,W00685,Member\n",
      "1407,9/20/2010 12:39,9/20/2010 13:02,31101,14th & V St NW,31100,19th St & Pennsylvania Ave NW,W00930,Member\n",
      "351,9/20/2010 12:39,9/20/2010 12:45,31103,16th & Harvard St NW,31104,Adams Mill & Columbia Rd NW,W00685,Member\n",
      "416,9/20/2010 12:40,9/20/2010 12:47,31105,14th & Harvard St NW,31207,Georgia Ave and Fairmont St NW,W00476,Member\n",
      "2988,9/20/2010 12:41,9/20/2010 13:31,31206,19th & E Street NW,31603,1st & M St NE,W00955,Member\n",
      "636,9/20/2010 12:42,9/20/2010 12:52,31002,20th & Crystal Dr,31003,15th & Crystal Dr,W01066,Member\n"
     ]
    }
   ],
   "source": [
    "rd = open(\"/Users/sanjeevi.m/Documents/Training python file/Pyspark Training/Sources/CityBikeTrip.csv\",'r')\n",
    "\n",
    "for i in rd:\n",
    "    print(i,end=\"\")"
   ]
  },
  {
   "cell_type": "code",
   "execution_count": 24,
   "id": "5b51c597",
   "metadata": {},
   "outputs": [
    {
     "name": "stdout",
     "output_type": "stream",
     "text": [
      "0\n",
      "['Duration,Start date,End date,Start station number,Start station,End station number,End station,Bike number,Member type\\n', '1012,9/20/2010 11:27,9/20/2010 11:43,31208,M St & New Jersey Ave SE,31108,4th & M St SW,W00742,Member\\n', '61,9/20/2010 11:41,9/20/2010 11:42,31209,1st & N St  SE,31209,1st & N St  SE,W00032,Member\\n', '2690,9/20/2010 12:05,9/20/2010 12:50,31600,5th & K St NW,31100,19th St & Pennsylvania Ave NW,W00993,Member\\n', '1406,9/20/2010 12:06,9/20/2010 12:29,31600,5th & K St NW,31602,Park Rd & Holmead Pl NW,W00344,Member\\n', '1413,9/20/2010 12:10,9/20/2010 12:34,31100,19th St & Pennsylvania Ave NW,31201,15th & P St NW,W00883,Member\\n', '982,9/20/2010 12:14,9/20/2010 12:30,31109,7th & T St NW,31200,Massachusetts Ave ,W00850,Member\\n', '930,9/20/2010 12:15,9/20/2010 12:30,31109,7th & T St NW,31105,14th & Harvard St NW,W00804,Member\\n', '1659,9/20/2010 12:16,9/20/2010 12:44,31111,10th & U St NW,31208,M St & New Jersey Ave SE,W01084,Member\\n', '2496,9/20/2010 12:18,9/20/2010 13:00,31600,5th & K St NW,31601,19th & East Capitol St SE,W00812,Member\\n', '1487,9/20/2010 12:19,9/20/2010 12:44,31703,Minnesota Ave Metro/DOES,31603,1st & M St NE,W00803,Member\\n', '1007,9/20/2010 12:21,9/20/2010 12:38,31500,4th & W St NE,31200,Massachusetts Ave ,W00256,Member\\n', '1159,9/20/2010 12:26,9/20/2010 12:45,31603,1st & M St NE,31603,1st & M St NE,W01023,Member\\n', '88,9/20/2010 12:31,9/20/2010 12:32,31602,Park Rd & Holmead Pl NW,31602,Park Rd & Holmead Pl NW,W00472,Member\\n', '202,9/20/2010 12:33,9/20/2010 12:36,31105,14th & Harvard St NW,31103,16th & Harvard St NW,W00685,Member\\n', '1407,9/20/2010 12:39,9/20/2010 13:02,31101,14th & V St NW,31100,19th St & Pennsylvania Ave NW,W00930,Member\\n', '351,9/20/2010 12:39,9/20/2010 12:45,31103,16th & Harvard St NW,31104,Adams Mill & Columbia Rd NW,W00685,Member\\n', '416,9/20/2010 12:40,9/20/2010 12:47,31105,14th & Harvard St NW,31207,Georgia Ave and Fairmont St NW,W00476,Member\\n', '2988,9/20/2010 12:41,9/20/2010 13:31,31206,19th & E Street NW,31603,1st & M St NE,W00955,Member\\n', '636,9/20/2010 12:42,9/20/2010 12:52,31002,20th & Crystal Dr,31003,15th & Crystal Dr,W01066,Member\\n']\n",
      "[]\n"
     ]
    }
   ],
   "source": [
    "rd = open(\"/Users/sanjeevi.m/Documents/Training python file/Pyspark Training/Sources/CityBikeTrip.csv\",'r')\n",
    "\n",
    "r = rd.tell()\n",
    "print(r)\n",
    "a = rd.readlines()\n",
    "print(a)\n",
    "d = rd.readlines()\n",
    "print(d)"
   ]
  },
  {
   "cell_type": "code",
   "execution_count": null,
   "id": "e2692a0a",
   "metadata": {},
   "outputs": [],
   "source": []
  }
 ],
 "metadata": {
  "kernelspec": {
   "display_name": "Python 3 (ipykernel)",
   "language": "python",
   "name": "python3"
  },
  "language_info": {
   "codemirror_mode": {
    "name": "ipython",
    "version": 3
   },
   "file_extension": ".py",
   "mimetype": "text/x-python",
   "name": "python",
   "nbconvert_exporter": "python",
   "pygments_lexer": "ipython3",
   "version": "3.8.8"
  }
 },
 "nbformat": 4,
 "nbformat_minor": 5
}
